{
 "cells": [
  {
   "cell_type": "markdown",
   "id": "aa15d3ae",
   "metadata": {},
   "source": [
    "# 1. EXAMPLE"
   ]
  },
  {
   "cell_type": "code",
   "execution_count": 1,
   "id": "cc058fce",
   "metadata": {},
   "outputs": [],
   "source": [
    "# Bir listeyi düzleştiren (flatten) fonksiyon yazın. Elemanları birden çok katmanlı listelerden ([[3],2] gibi) \n",
    "# oluşabileceği gibi, non-scalar verilerden de oluşabilir. Örnek olarak:\n",
    "\n",
    "# input: [[1,'a',['cat'],2],[[[3]],'dog'],4,5]\n",
    "\n",
    "# output: [1,'a','cat',2,3,'dog',4,5]"
   ]
  },
  {
   "cell_type": "code",
   "execution_count": 2,
   "id": "3e39538c",
   "metadata": {},
   "outputs": [],
   "source": [
    "exp_list = [[1,'a',['cat'],2],[[[3]],'dog'],4,5]\n",
    "\n",
    "def flatting_list(exp_list):\n",
    "    flatten = []\n",
    "    for i in exp_list:\n",
    "        if isinstance(i, (list, tuple)):\n",
    "            flatten.extend(flatting_list(i))\n",
    "        else: \n",
    "            flatten.append(i)\n",
    "    return flatten\n",
    "            "
   ]
  },
  {
   "cell_type": "code",
   "execution_count": 3,
   "id": "46502f9b",
   "metadata": {},
   "outputs": [
    {
     "data": {
      "text/plain": [
       "[1, 'a', 'cat', 2, 3, 'dog', 4, 5]"
      ]
     },
     "execution_count": 3,
     "metadata": {},
     "output_type": "execute_result"
    }
   ],
   "source": [
    "flatting_list(exp_list)"
   ]
  },
  {
   "cell_type": "code",
   "execution_count": 4,
   "id": "5e5c66e3",
   "metadata": {},
   "outputs": [
    {
     "data": {
      "text/plain": [
       "['number', 1, 2, 3, 'animal', 'cat', 'dog', 'bird', 'blue', 'red']"
      ]
     },
     "execution_count": 4,
     "metadata": {},
     "output_type": "execute_result"
    }
   ],
   "source": [
    "flatting_list([[\"number\", 1, 2, 3], [\"animal\", [\"cat\",[\"dog\"],\"bird\"]], \"blue\", \"red\"])"
   ]
  },
  {
   "cell_type": "markdown",
   "id": "b5471ef3",
   "metadata": {},
   "source": [
    "# 2. EXAMPLE"
   ]
  },
  {
   "cell_type": "code",
   "execution_count": 5,
   "id": "e6759ff0",
   "metadata": {},
   "outputs": [],
   "source": [
    "# Verilen listenin içindeki elemanları tersine döndüren bir fonksiyon yazın. \n",
    "# Eğer listenin içindeki elemanlar da liste içeriyorsa onların elemanlarını da tersine döndürün. Örnek olarak:\n",
    "\n",
    "# input: [[1, 2], [3, 4], [5, 6, 7]]\n",
    "\n",
    "# output: [[[7, 6, 5], [4, 3], [2, 1]]"
   ]
  },
  {
   "cell_type": "code",
   "execution_count": 6,
   "id": "e13fd83e",
   "metadata": {},
   "outputs": [],
   "source": [
    "simple_list = [[1, 2], [3, 4], [5, 6, 7]]\n",
    "\n",
    "def reverse_list(simple_list):\n",
    "    for i in simple_list:\n",
    "        if isinstance(i, (list, tuple)):\n",
    "            i.reverse()\n",
    "        \n",
    "    simple_list.reverse()\n",
    "    \n",
    "    return simple_list"
   ]
  },
  {
   "cell_type": "code",
   "execution_count": 7,
   "id": "408d7d90",
   "metadata": {},
   "outputs": [
    {
     "data": {
      "text/plain": [
       "[[7, 6, 5], [4, 3], [2, 1]]"
      ]
     },
     "execution_count": 7,
     "metadata": {},
     "output_type": "execute_result"
    }
   ],
   "source": [
    "reverse_list(simple_list)"
   ]
  },
  {
   "cell_type": "code",
   "execution_count": 8,
   "id": "79e5f927",
   "metadata": {},
   "outputs": [
    {
     "data": {
      "text/plain": [
       "[1, [2], 3, 4, [5, 6], 7, 8, [9, 10, 11]]"
      ]
     },
     "execution_count": 8,
     "metadata": {},
     "output_type": "execute_result"
    }
   ],
   "source": [
    "reverse_list([[11,10,9],8,7,[6,5],4,3,[2],1])"
   ]
  },
  {
   "cell_type": "code",
   "execution_count": null,
   "id": "e29a0158",
   "metadata": {},
   "outputs": [],
   "source": []
  }
 ],
 "metadata": {
  "kernelspec": {
   "display_name": "Python 3 (ipykernel)",
   "language": "python",
   "name": "python3"
  },
  "language_info": {
   "codemirror_mode": {
    "name": "ipython",
    "version": 3
   },
   "file_extension": ".py",
   "mimetype": "text/x-python",
   "name": "python",
   "nbconvert_exporter": "python",
   "pygments_lexer": "ipython3",
   "version": "3.11.4"
  }
 },
 "nbformat": 4,
 "nbformat_minor": 5
}
